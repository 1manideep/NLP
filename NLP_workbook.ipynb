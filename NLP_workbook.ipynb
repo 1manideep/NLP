{
 "cells": [
  {
   "cell_type": "markdown",
   "metadata": {},
   "source": [
    "## N-gram Models (without using any libraries)"
   ]
  },
  {
   "cell_type": "code",
   "execution_count": 152,
   "metadata": {},
   "outputs": [],
   "source": [
    "class Ngram:\n",
    "    def __init__(self, text, n=None):\n",
    "        self.text = text\n",
    "        self.n = n\n",
    "        self.split_text = self.process()\n",
    "\n",
    "    def process(self):\n",
    "        text = self.text.lower()\n",
    "        text = text.replace('.', ' ')\n",
    "        text = text.replace(',', ' ')\n",
    "        split_text = text.split()\n",
    "        return split_text\n",
    "\n",
    "    def ngram_context(self):\n",
    "        ngram_list, context_list = [], []\n",
    "        n = self.n\n",
    "        for i in range(0, len(self.split_text) - n + 1):\n",
    "            ngram = self.split_text[i:i + n]\n",
    "            context = self.split_text[i:i + n - 1]\n",
    "            context_list.append(context)\n",
    "            ngram_list.append(ngram)\n",
    "        return ngram_list, context_list\n",
    "\n",
    "    def counts(self, ingram):\n",
    "        ngramcount = 0\n",
    "        contextcount = 0\n",
    "        ngram_list = self.ngram_context()[0]\n",
    "        context_list = self.ngram_context()[1]\n",
    "\n",
    "        for i in ngram_list:\n",
    "            if i == ingram:\n",
    "                ngramcount += 1\n",
    "\n",
    "        for i in context_list:\n",
    "            if i == ingram[:-1]:\n",
    "                contextcount += 1\n",
    "\n",
    "        return ngramcount, contextcount\n",
    "\n",
    "    def probability(self, ingram):\n",
    "        ngram_list, context_list = self.ngram_context()\n",
    "        ncount, ccount = self.counts(ingram)\n",
    "\n",
    "        # Check for division by zero\n",
    "        if ccount == 0:\n",
    "            return 0.0\n",
    "\n",
    "        prob = ncount / ccount\n",
    "        return prob\n",
    "\n",
    "    def perplexity(self):\n",
    "        ngram_list = self.ngram_context()\n",
    "        prob = 1\n",
    "        for i in ngram_list:\n",
    "            prob_i = self.probability(i)\n",
    "\n",
    "            # Check if prob_i is 0.0, and if so, assign a small positive value (e.g., 1e-10)\n",
    "            if prob_i == 0.0:\n",
    "                prob_i = 1e-10\n",
    "\n",
    "            prob = prob * prob_i\n",
    "\n",
    "        # Check if prob is still 0.0 after the loop\n",
    "        if prob == 0.0:\n",
    "            return float('inf')  # Return infinity to indicate undefined perplexity\n",
    "        else:\n",
    "            perp = prob ** (-1 / self.n)\n",
    "            return perp"
   ]
  },
  {
   "cell_type": "code",
   "execution_count": 137,
   "metadata": {},
   "outputs": [
    {
     "data": {
      "text/plain": [
       "['this',\n",
       " 'is',\n",
       " 'a',\n",
       " 'test',\n",
       " 'it',\n",
       " 'has',\n",
       " 'some',\n",
       " 'punctuation',\n",
       " 'like',\n",
       " 'commas',\n",
       " 'and',\n",
       " 'periods']"
      ]
     },
     "execution_count": 137,
     "metadata": {},
     "output_type": "execute_result"
    }
   ],
   "source": [
    "text = \"This is a test. It has some punctuation, like commas and periods.\"\n",
    "ngram = Ngram(text)\n",
    "ngram.split_text \n",
    "#assert ngram.split_text == ['this', 'is', 'a', 'test', 'it', 'has', 'some', 'punctuation', 'like', 'commas', 'and', 'periods']"
   ]
  },
  {
   "cell_type": "code",
   "execution_count": 138,
   "metadata": {},
   "outputs": [
    {
     "name": "stdout",
     "output_type": "stream",
     "text": [
      "[['this', 'is', 'a'], ['is', 'a', 'test'], ['a', 'test', 'it'], ['test', 'it', 'has'], ['it', 'has', 'some'], ['has', 'some', 'punctuation'], ['some', 'punctuation', 'like'], ['punctuation', 'like', 'commas'], ['like', 'commas', 'and'], ['commas', 'and', 'periods']]\n",
      "[['this', 'is'], ['is', 'a'], ['a', 'test'], ['test', 'it'], ['it', 'has'], ['has', 'some'], ['some', 'punctuation'], ['punctuation', 'like'], ['like', 'commas'], ['commas', 'and']]\n"
     ]
    }
   ],
   "source": [
    "text = \"This is a test. It has some punctuation, like commas and periods.\"\n",
    "ngram = Ngram(text, n=3)\n",
    "ngram_list, context_list = ngram.ngram_context()\n",
    "print(ngram_list)\n",
    "print(context_list)\n",
    "#assert ngram_list == [['this', 'is', 'a'], ['is', 'a', 'test'], ['a', 'test', 'it'], ['test', 'it', 'has'], ['it', 'has', 'some'], ['has', 'some', 'punctuation'], ['some', 'punctuation', 'like'], ['punctuation', 'like', 'commas'], ['like', 'commas', 'and'], ['commas', 'and', 'periods']]\n",
    "#assert context_list == [['this', 'is'], ['is', 'a'], ['a', 'test'], ['test', 'it'], ['it', 'has'], ['has', 'some'], ['some', 'punctuation'], ['punctuation', 'like'], ['like', 'commas'], ['commas', 'and']]"
   ]
  },
  {
   "cell_type": "code",
   "execution_count": 155,
   "metadata": {},
   "outputs": [
    {
     "name": "stdout",
     "output_type": "stream",
     "text": [
      "[['this', 'is'], ['is', 'a'], ['a', 'test'], ['test', 'it'], ['it', 'has'], ['has', 'some'], ['some', 'punctuation'], ['punctuation', 'this'], ['this', 'like'], ['like', 'commas'], ['commas', 'and'], ['and', 'this'], ['this', 'periods']]\n",
      "[['this'], ['is'], ['a'], ['test'], ['it'], ['has'], ['some'], ['punctuation'], ['this'], ['like'], ['commas'], ['and'], ['this']]\n",
      "1\n",
      "3\n"
     ]
    },
    {
     "data": {
      "text/plain": [
       "0.3333333333333333"
      ]
     },
     "execution_count": 155,
     "metadata": {},
     "output_type": "execute_result"
    }
   ],
   "source": [
    "text = \"This is a test. It has some punctuation, this like commas and  this periods.\"\n",
    "ngram = Ngram(text, n=2)\n",
    "ngram_list, context_list = ngram.ngram_context()\n",
    "print(ngram_list)\n",
    "print(context_list)\n",
    "ngramcount  = ngram.counts([ 'this', 'is'])[0]\n",
    "contextcount = ngram.counts([ 'this', 'is'])[1]\n",
    "print(ngramcount) \n",
    "print(contextcount)\n",
    "prob = ngram.probability(['this', 'is'])\n",
    "prob"
   ]
  },
  {
   "cell_type": "code",
   "execution_count": 146,
   "metadata": {},
   "outputs": [
    {
     "data": {
      "text/plain": [
       "1.0"
      ]
     },
     "execution_count": 146,
     "metadata": {},
     "output_type": "execute_result"
    }
   ],
   "source": [
    "text = \"This is a test. It has some punctuation, like commas and periods.\"\n",
    "ngram = Ngram(text, n=2)\n",
    "prob = ngram.probability(['this', 'is'])\n",
    "prob "
   ]
  },
  {
   "cell_type": "code",
   "execution_count": 143,
   "metadata": {},
   "outputs": [
    {
     "data": {
      "text/plain": [
       "10000000000.0"
      ]
     },
     "execution_count": 143,
     "metadata": {},
     "output_type": "execute_result"
    }
   ],
   "source": [
    "text = \"This is a test. It has some punctuation, like commas and periods.\"\n",
    "ngram = Ngram(text, n=2)\n",
    "perp = ngram.perplexity()\n",
    "perp "
   ]
  },
  {
   "cell_type": "code",
   "execution_count": null,
   "metadata": {},
   "outputs": [],
   "source": []
  },
  {
   "cell_type": "code",
   "execution_count": null,
   "metadata": {},
   "outputs": [],
   "source": []
  },
  {
   "cell_type": "code",
   "execution_count": 100,
   "metadata": {},
   "outputs": [],
   "source": [
    "text = \"In the vast expanse of the universe, countless galaxies twinkle like distant stars, each harboring its own unique collection of celestial bodies, from massive black holes to shimmering nebulae, all governed by the laws of physics and the mysterious forces that shape the cosmos\""
   ]
  },
  {
   "cell_type": "code",
   "execution_count": 101,
   "metadata": {},
   "outputs": [],
   "source": [
    "model = Ngram(text,3)"
   ]
  },
  {
   "cell_type": "code",
   "execution_count": 102,
   "metadata": {},
   "outputs": [
    {
     "data": {
      "text/plain": [
       "['in',\n",
       " 'the',\n",
       " 'vast',\n",
       " 'expanse',\n",
       " 'of',\n",
       " 'the',\n",
       " 'universe',\n",
       " 'countless',\n",
       " 'galaxies',\n",
       " 'twinkle',\n",
       " 'like',\n",
       " 'distant',\n",
       " 'stars',\n",
       " 'each',\n",
       " 'harboring',\n",
       " 'its',\n",
       " 'own',\n",
       " 'unique',\n",
       " 'collection',\n",
       " 'of',\n",
       " 'celestial',\n",
       " 'bodies',\n",
       " 'from',\n",
       " 'massive',\n",
       " 'black',\n",
       " 'holes',\n",
       " 'to',\n",
       " 'shimmering',\n",
       " 'nebulae',\n",
       " 'all',\n",
       " 'governed',\n",
       " 'by',\n",
       " 'the',\n",
       " 'laws',\n",
       " 'of',\n",
       " 'physics',\n",
       " 'and',\n",
       " 'the',\n",
       " 'mysterious',\n",
       " 'forces',\n",
       " 'that',\n",
       " 'shape',\n",
       " 'the',\n",
       " 'cosmos']"
      ]
     },
     "execution_count": 102,
     "metadata": {},
     "output_type": "execute_result"
    }
   ],
   "source": [
    "model.process()"
   ]
  },
  {
   "cell_type": "code",
   "execution_count": 103,
   "metadata": {},
   "outputs": [
    {
     "name": "stdout",
     "output_type": "stream",
     "text": [
      "[['in', 'the', 'vast'], ['the', 'vast', 'expanse'], ['vast', 'expanse', 'of'], ['expanse', 'of', 'the'], ['of', 'the', 'universe'], ['the', 'universe', 'countless'], ['universe', 'countless', 'galaxies'], ['countless', 'galaxies', 'twinkle'], ['galaxies', 'twinkle', 'like'], ['twinkle', 'like', 'distant'], ['like', 'distant', 'stars'], ['distant', 'stars', 'each'], ['stars', 'each', 'harboring'], ['each', 'harboring', 'its'], ['harboring', 'its', 'own'], ['its', 'own', 'unique'], ['own', 'unique', 'collection'], ['unique', 'collection', 'of'], ['collection', 'of', 'celestial'], ['of', 'celestial', 'bodies'], ['celestial', 'bodies', 'from'], ['bodies', 'from', 'massive'], ['from', 'massive', 'black'], ['massive', 'black', 'holes'], ['black', 'holes', 'to'], ['holes', 'to', 'shimmering'], ['to', 'shimmering', 'nebulae'], ['shimmering', 'nebulae', 'all'], ['nebulae', 'all', 'governed'], ['all', 'governed', 'by'], ['governed', 'by', 'the'], ['by', 'the', 'laws'], ['the', 'laws', 'of'], ['laws', 'of', 'physics'], ['of', 'physics', 'and'], ['physics', 'and', 'the'], ['and', 'the', 'mysterious'], ['the', 'mysterious', 'forces'], ['mysterious', 'forces', 'that'], ['forces', 'that', 'shape'], ['that', 'shape', 'the'], ['shape', 'the', 'cosmos']]\n"
     ]
    }
   ],
   "source": [
    "ngram = model.ngram_context()[0]\n",
    "print(ngram)"
   ]
  },
  {
   "cell_type": "code",
   "execution_count": 104,
   "metadata": {},
   "outputs": [
    {
     "name": "stdout",
     "output_type": "stream",
     "text": [
      "[['in', 'the'], ['the', 'vast'], ['vast', 'expanse'], ['expanse', 'of'], ['of', 'the'], ['the', 'universe'], ['universe', 'countless'], ['countless', 'galaxies'], ['galaxies', 'twinkle'], ['twinkle', 'like'], ['like', 'distant'], ['distant', 'stars'], ['stars', 'each'], ['each', 'harboring'], ['harboring', 'its'], ['its', 'own'], ['own', 'unique'], ['unique', 'collection'], ['collection', 'of'], ['of', 'celestial'], ['celestial', 'bodies'], ['bodies', 'from'], ['from', 'massive'], ['massive', 'black'], ['black', 'holes'], ['holes', 'to'], ['to', 'shimmering'], ['shimmering', 'nebulae'], ['nebulae', 'all'], ['all', 'governed'], ['governed', 'by'], ['by', 'the'], ['the', 'laws'], ['laws', 'of'], ['of', 'physics'], ['physics', 'and'], ['and', 'the'], ['the', 'mysterious'], ['mysterious', 'forces'], ['forces', 'that'], ['that', 'shape'], ['shape', 'the']]\n"
     ]
    }
   ],
   "source": [
    "context = model.ngram_context()[1]\n",
    "print(context)"
   ]
  },
  {
   "cell_type": "code",
   "execution_count": 105,
   "metadata": {},
   "outputs": [
    {
     "name": "stdout",
     "output_type": "stream",
     "text": [
      "count of this ['in', 'the', 'vast'] is 1\n",
      "count of this ['the', 'vast', 'expanse'] is 1\n",
      "count of this ['vast', 'expanse', 'of'] is 1\n",
      "count of this ['expanse', 'of', 'the'] is 1\n",
      "count of this ['of', 'the', 'universe'] is 1\n",
      "count of this ['the', 'universe', 'countless'] is 1\n",
      "count of this ['universe', 'countless', 'galaxies'] is 1\n",
      "count of this ['countless', 'galaxies', 'twinkle'] is 1\n",
      "count of this ['galaxies', 'twinkle', 'like'] is 1\n",
      "count of this ['twinkle', 'like', 'distant'] is 1\n",
      "count of this ['like', 'distant', 'stars'] is 1\n",
      "count of this ['distant', 'stars', 'each'] is 1\n",
      "count of this ['stars', 'each', 'harboring'] is 1\n",
      "count of this ['each', 'harboring', 'its'] is 1\n",
      "count of this ['harboring', 'its', 'own'] is 1\n",
      "count of this ['its', 'own', 'unique'] is 1\n",
      "count of this ['own', 'unique', 'collection'] is 1\n",
      "count of this ['unique', 'collection', 'of'] is 1\n",
      "count of this ['collection', 'of', 'celestial'] is 1\n",
      "count of this ['of', 'celestial', 'bodies'] is 1\n",
      "count of this ['celestial', 'bodies', 'from'] is 1\n",
      "count of this ['bodies', 'from', 'massive'] is 1\n",
      "count of this ['from', 'massive', 'black'] is 1\n",
      "count of this ['massive', 'black', 'holes'] is 1\n",
      "count of this ['black', 'holes', 'to'] is 1\n",
      "count of this ['holes', 'to', 'shimmering'] is 1\n",
      "count of this ['to', 'shimmering', 'nebulae'] is 1\n",
      "count of this ['shimmering', 'nebulae', 'all'] is 1\n",
      "count of this ['nebulae', 'all', 'governed'] is 1\n",
      "count of this ['all', 'governed', 'by'] is 1\n",
      "count of this ['governed', 'by', 'the'] is 1\n",
      "count of this ['by', 'the', 'laws'] is 1\n",
      "count of this ['the', 'laws', 'of'] is 1\n",
      "count of this ['laws', 'of', 'physics'] is 1\n",
      "count of this ['of', 'physics', 'and'] is 1\n",
      "count of this ['physics', 'and', 'the'] is 1\n",
      "count of this ['and', 'the', 'mysterious'] is 1\n",
      "count of this ['the', 'mysterious', 'forces'] is 1\n",
      "count of this ['mysterious', 'forces', 'that'] is 1\n",
      "count of this ['forces', 'that', 'shape'] is 1\n",
      "count of this ['that', 'shape', 'the'] is 1\n",
      "count of this ['shape', 'the', 'cosmos'] is 1\n"
     ]
    }
   ],
   "source": [
    "for i in ngram:\n",
    "    print(f'count of this {i} is {model.counts(i)[0]}')"
   ]
  },
  {
   "cell_type": "code",
   "execution_count": 106,
   "metadata": {},
   "outputs": [
    {
     "name": "stdout",
     "output_type": "stream",
     "text": [
      "count of this ['in', 'the'] is 0\n",
      "count of this ['the', 'vast'] is 0\n",
      "count of this ['vast', 'expanse'] is 0\n",
      "count of this ['expanse', 'of'] is 0\n",
      "count of this ['of', 'the'] is 0\n",
      "count of this ['the', 'universe'] is 0\n",
      "count of this ['universe', 'countless'] is 0\n",
      "count of this ['countless', 'galaxies'] is 0\n",
      "count of this ['galaxies', 'twinkle'] is 0\n",
      "count of this ['twinkle', 'like'] is 0\n",
      "count of this ['like', 'distant'] is 0\n",
      "count of this ['distant', 'stars'] is 0\n",
      "count of this ['stars', 'each'] is 0\n",
      "count of this ['each', 'harboring'] is 0\n",
      "count of this ['harboring', 'its'] is 0\n",
      "count of this ['its', 'own'] is 0\n",
      "count of this ['own', 'unique'] is 0\n",
      "count of this ['unique', 'collection'] is 0\n",
      "count of this ['collection', 'of'] is 0\n",
      "count of this ['of', 'celestial'] is 0\n",
      "count of this ['celestial', 'bodies'] is 0\n",
      "count of this ['bodies', 'from'] is 0\n",
      "count of this ['from', 'massive'] is 0\n",
      "count of this ['massive', 'black'] is 0\n",
      "count of this ['black', 'holes'] is 0\n",
      "count of this ['holes', 'to'] is 0\n",
      "count of this ['to', 'shimmering'] is 0\n",
      "count of this ['shimmering', 'nebulae'] is 0\n",
      "count of this ['nebulae', 'all'] is 0\n",
      "count of this ['all', 'governed'] is 0\n",
      "count of this ['governed', 'by'] is 0\n",
      "count of this ['by', 'the'] is 0\n",
      "count of this ['the', 'laws'] is 0\n",
      "count of this ['laws', 'of'] is 0\n",
      "count of this ['of', 'physics'] is 0\n",
      "count of this ['physics', 'and'] is 0\n",
      "count of this ['and', 'the'] is 0\n",
      "count of this ['the', 'mysterious'] is 0\n",
      "count of this ['mysterious', 'forces'] is 0\n",
      "count of this ['forces', 'that'] is 0\n",
      "count of this ['that', 'shape'] is 0\n",
      "count of this ['shape', 'the'] is 0\n"
     ]
    }
   ],
   "source": [
    "for i in context:\n",
    "    print(f'count of this {i} is {model.counts(i)[1]}')"
   ]
  },
  {
   "cell_type": "code",
   "execution_count": 107,
   "metadata": {},
   "outputs": [
    {
     "data": {
      "text/plain": [
       "1.0"
      ]
     },
     "execution_count": 107,
     "metadata": {},
     "output_type": "execute_result"
    }
   ],
   "source": [
    "model.probability(['mysterious', 'forces', 'that'])"
   ]
  },
  {
   "cell_type": "code",
   "execution_count": 110,
   "metadata": {},
   "outputs": [
    {
     "name": "stdout",
     "output_type": "stream",
     "text": [
      "1.0\n"
     ]
    }
   ],
   "source": [
    "p = 1\n",
    "for i in ngram:\n",
    "    p *= model.probability(i)\n",
    "print(p)"
   ]
  },
  {
   "cell_type": "code",
   "execution_count": 108,
   "metadata": {},
   "outputs": [
    {
     "data": {
      "text/plain": [
       "4641588.8336127745"
      ]
     },
     "execution_count": 108,
     "metadata": {},
     "output_type": "execute_result"
    }
   ],
   "source": [
    "model.perplexity()"
   ]
  },
  {
   "cell_type": "code",
   "execution_count": 126,
   "metadata": {},
   "outputs": [
    {
     "name": "stdout",
     "output_type": "stream",
     "text": [
      "Probability of 'the brown fox': 0.0\n",
      "Probability of 'jumps over the': 1.0\n"
     ]
    }
   ],
   "source": [
    "# Example usage:\n",
    "training_corpus = \"The quick brown fox jumps over the lazy dog. The dog barks loudly in the quiet night. Cats sleep peacefully on the soft couch. Birds sing joyfully in the early morning hours. The sun rises in the east, casting a warm glow over the countryside. The moon shines brightly in the clear night sky, illuminating the landscape below. People go to work in the bustling city, while children play in the colorful park nearby. Cars drive on the busy streets, creating a constant hum of activity. The city never sleeps, with restaurants and shops open throughout the night, offering a wide variety of entertainment and dining options.\"\n",
    "n = 3  # Use trigrams\n",
    "model1 = Ngram(training_corpus, n)\n",
    "\n",
    "# Calculate probabilities for different n-grams\n",
    "ngram1 = [\"the\", \"brown\", \"fox\"]\n",
    "ngram2 = [\"jumps\", \"over\", \"the\"]\n",
    "\n",
    "probability1 = model1.probability(ngram1)\n",
    "probability2 = model1.probability(ngram2)\n",
    "\n",
    "print(f\"Probability of '{' '.join(ngram1)}': {probability1}\")\n",
    "print(f\"Probability of '{' '.join(ngram2)}': {probability2}\")\n"
   ]
  },
  {
   "cell_type": "code",
   "execution_count": 127,
   "metadata": {},
   "outputs": [
    {
     "name": "stdout",
     "output_type": "stream",
     "text": [
      "[['the', 'quick', 'brown'], ['quick', 'brown', 'fox'], ['brown', 'fox', 'jumps'], ['fox', 'jumps', 'over'], ['jumps', 'over', 'the'], ['over', 'the', 'lazy'], ['the', 'lazy', 'dog'], ['lazy', 'dog', 'the'], ['dog', 'the', 'dog'], ['the', 'dog', 'barks'], ['dog', 'barks', 'loudly'], ['barks', 'loudly', 'in'], ['loudly', 'in', 'the'], ['in', 'the', 'quiet'], ['the', 'quiet', 'night'], ['quiet', 'night', 'cats'], ['night', 'cats', 'sleep'], ['cats', 'sleep', 'peacefully'], ['sleep', 'peacefully', 'on'], ['peacefully', 'on', 'the'], ['on', 'the', 'soft'], ['the', 'soft', 'couch'], ['soft', 'couch', 'birds'], ['couch', 'birds', 'sing'], ['birds', 'sing', 'joyfully'], ['sing', 'joyfully', 'in'], ['joyfully', 'in', 'the'], ['in', 'the', 'early'], ['the', 'early', 'morning'], ['early', 'morning', 'hours'], ['morning', 'hours', 'the'], ['hours', 'the', 'sun'], ['the', 'sun', 'rises'], ['sun', 'rises', 'in'], ['rises', 'in', 'the'], ['in', 'the', 'east'], ['the', 'east', 'casting'], ['east', 'casting', 'a'], ['casting', 'a', 'warm'], ['a', 'warm', 'glow'], ['warm', 'glow', 'over'], ['glow', 'over', 'the'], ['over', 'the', 'countryside'], ['the', 'countryside', 'the'], ['countryside', 'the', 'moon'], ['the', 'moon', 'shines'], ['moon', 'shines', 'brightly'], ['shines', 'brightly', 'in'], ['brightly', 'in', 'the'], ['in', 'the', 'clear'], ['the', 'clear', 'night'], ['clear', 'night', 'sky'], ['night', 'sky', 'illuminating'], ['sky', 'illuminating', 'the'], ['illuminating', 'the', 'landscape'], ['the', 'landscape', 'below'], ['landscape', 'below', 'people'], ['below', 'people', 'go'], ['people', 'go', 'to'], ['go', 'to', 'work'], ['to', 'work', 'in'], ['work', 'in', 'the'], ['in', 'the', 'bustling'], ['the', 'bustling', 'city'], ['bustling', 'city', 'while'], ['city', 'while', 'children'], ['while', 'children', 'play'], ['children', 'play', 'in'], ['play', 'in', 'the'], ['in', 'the', 'colorful'], ['the', 'colorful', 'park'], ['colorful', 'park', 'nearby'], ['park', 'nearby', 'cars'], ['nearby', 'cars', 'drive'], ['cars', 'drive', 'on'], ['drive', 'on', 'the'], ['on', 'the', 'busy'], ['the', 'busy', 'streets'], ['busy', 'streets', 'creating'], ['streets', 'creating', 'a'], ['creating', 'a', 'constant'], ['a', 'constant', 'hum'], ['constant', 'hum', 'of'], ['hum', 'of', 'activity'], ['of', 'activity', 'the'], ['activity', 'the', 'city'], ['the', 'city', 'never'], ['city', 'never', 'sleeps'], ['never', 'sleeps', 'with'], ['sleeps', 'with', 'restaurants'], ['with', 'restaurants', 'and'], ['restaurants', 'and', 'shops'], ['and', 'shops', 'open'], ['shops', 'open', 'throughout'], ['open', 'throughout', 'the'], ['throughout', 'the', 'night'], ['the', 'night', 'offering'], ['night', 'offering', 'a'], ['offering', 'a', 'wide'], ['a', 'wide', 'variety'], ['wide', 'variety', 'of'], ['variety', 'of', 'entertainment'], ['of', 'entertainment', 'and'], ['entertainment', 'and', 'dining'], ['and', 'dining', 'options']]\n"
     ]
    }
   ],
   "source": [
    "ngram11 = model1.ngram_context()[0]\n",
    "print(ngram11)"
   ]
  },
  {
   "cell_type": "code",
   "execution_count": 128,
   "metadata": {},
   "outputs": [
    {
     "name": "stdout",
     "output_type": "stream",
     "text": [
      "[['the', 'quick'], ['quick', 'brown'], ['brown', 'fox'], ['fox', 'jumps'], ['jumps', 'over'], ['over', 'the'], ['the', 'lazy'], ['lazy', 'dog'], ['dog', 'the'], ['the', 'dog'], ['dog', 'barks'], ['barks', 'loudly'], ['loudly', 'in'], ['in', 'the'], ['the', 'quiet'], ['quiet', 'night'], ['night', 'cats'], ['cats', 'sleep'], ['sleep', 'peacefully'], ['peacefully', 'on'], ['on', 'the'], ['the', 'soft'], ['soft', 'couch'], ['couch', 'birds'], ['birds', 'sing'], ['sing', 'joyfully'], ['joyfully', 'in'], ['in', 'the'], ['the', 'early'], ['early', 'morning'], ['morning', 'hours'], ['hours', 'the'], ['the', 'sun'], ['sun', 'rises'], ['rises', 'in'], ['in', 'the'], ['the', 'east'], ['east', 'casting'], ['casting', 'a'], ['a', 'warm'], ['warm', 'glow'], ['glow', 'over'], ['over', 'the'], ['the', 'countryside'], ['countryside', 'the'], ['the', 'moon'], ['moon', 'shines'], ['shines', 'brightly'], ['brightly', 'in'], ['in', 'the'], ['the', 'clear'], ['clear', 'night'], ['night', 'sky'], ['sky', 'illuminating'], ['illuminating', 'the'], ['the', 'landscape'], ['landscape', 'below'], ['below', 'people'], ['people', 'go'], ['go', 'to'], ['to', 'work'], ['work', 'in'], ['in', 'the'], ['the', 'bustling'], ['bustling', 'city'], ['city', 'while'], ['while', 'children'], ['children', 'play'], ['play', 'in'], ['in', 'the'], ['the', 'colorful'], ['colorful', 'park'], ['park', 'nearby'], ['nearby', 'cars'], ['cars', 'drive'], ['drive', 'on'], ['on', 'the'], ['the', 'busy'], ['busy', 'streets'], ['streets', 'creating'], ['creating', 'a'], ['a', 'constant'], ['constant', 'hum'], ['hum', 'of'], ['of', 'activity'], ['activity', 'the'], ['the', 'city'], ['city', 'never'], ['never', 'sleeps'], ['sleeps', 'with'], ['with', 'restaurants'], ['restaurants', 'and'], ['and', 'shops'], ['shops', 'open'], ['open', 'throughout'], ['throughout', 'the'], ['the', 'night'], ['night', 'offering'], ['offering', 'a'], ['a', 'wide'], ['wide', 'variety'], ['variety', 'of'], ['of', 'entertainment'], ['entertainment', 'and'], ['and', 'dining']]\n"
     ]
    }
   ],
   "source": [
    "print(model1.ngram_context()[1])"
   ]
  },
  {
   "cell_type": "code",
   "execution_count": 130,
   "metadata": {},
   "outputs": [
    {
     "data": {
      "text/plain": [
       "0"
      ]
     },
     "execution_count": 130,
     "metadata": {},
     "output_type": "execute_result"
    }
   ],
   "source": [
    "model1.counts(ngram1)[0]"
   ]
  },
  {
   "cell_type": "code",
   "execution_count": 131,
   "metadata": {},
   "outputs": [
    {
     "data": {
      "text/plain": [
       "0"
      ]
     },
     "execution_count": 131,
     "metadata": {},
     "output_type": "execute_result"
    }
   ],
   "source": [
    "model1.counts(ngram1)[1]"
   ]
  },
  {
   "cell_type": "markdown",
   "metadata": {},
   "source": [
    "## Ngram with Context "
   ]
  },
  {
   "cell_type": "markdown",
   "metadata": {},
   "source": [
    "N-gram-based context probability is calculated by counting the occurrences of specific n-grams in a training corpus and then using these counts to estimate the probability of encountering a part?icular word or sequence of words following a given context. The basic idea is that the more frequently a specific n-gram appears in the training data, the higher its context probability."
   ]
  },
  {
   "cell_type": "markdown",
   "metadata": {},
   "source": [
    "\n",
    "Say we want the probability of the word \"cat\" following the words \"The black\".\n",
    "#With context :\n",
    "Context : \"The black\" , Target word : 'cat'. \n",
    " For trigram, we look at how many times \"The black cat\"  appears in large text corpus. If it appears frequently, the context probability of \"cat\" following \"The black\" would be relatively high because we've observed this specific sequence often in our training data. Taking the surrounding context into account, and it helps us make more accurate predictions. \n",
    "\n"
   ]
  },
  {
   "cell_type": "code",
   "execution_count": null,
   "metadata": {},
   "outputs": [],
   "source": []
  },
  {
   "cell_type": "code",
   "execution_count": null,
   "metadata": {},
   "outputs": [],
   "source": []
  }
 ],
 "metadata": {
  "kernelspec": {
   "display_name": "Python 3",
   "language": "python",
   "name": "python3"
  },
  "language_info": {
   "codemirror_mode": {
    "name": "ipython",
    "version": 3
   },
   "file_extension": ".py",
   "mimetype": "text/x-python",
   "name": "python",
   "nbconvert_exporter": "python",
   "pygments_lexer": "ipython3",
   "version": "3.11.1"
  }
 },
 "nbformat": 4,
 "nbformat_minor": 2
}
