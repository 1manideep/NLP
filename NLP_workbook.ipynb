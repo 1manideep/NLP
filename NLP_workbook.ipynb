{
 "cells": [
  {
   "cell_type": "code",
   "execution_count": 104,
   "metadata": {},
   "outputs": [],
   "source": [
    "class Ngram:\n",
    "    def __init__(self, text, n=None):\n",
    "        self.text = text\n",
    "        self.n = n\n",
    "        self.split_text = self.process()\n",
    "\n",
    "    def process(self):\n",
    "        text = self.text.lower()\n",
    "        text = text.replace('.', ' ')\n",
    "        text = text.replace(',', ' ')\n",
    "        split_text = text.split()\n",
    "        return split_text\n",
    "\n",
    "    def ngram(self):\n",
    "        ngram_list = []\n",
    "        n = self.n\n",
    "        for i in range(0, len(self.split_text) - n + 1):\n",
    "            ngram = self.split_text[i:i + n]\n",
    "            ngram_list.append(ngram)\n",
    "        return ngram_list\n",
    "\n",
    "    def counts(self, ingram):\n",
    "        count = 0\n",
    "        ngram_list = self.ngram()\n",
    "        for i in ngram_list:\n",
    "            if i == ingram:\n",
    "                count += 1\n",
    "        return count\n",
    "    \n",
    "    def probability(self, ingram):\n",
    "        ngram_list = self.ngram()\n",
    "        count = self.counts(ingram)\n",
    "        prob = count / len(ngram_list)\n",
    "        return prob\n",
    "    \n",
    "    def perplexity(self):\n",
    "        ngram_list = self.ngram()\n",
    "        prob = 1\n",
    "        for i in ngram_list:\n",
    "            prob = prob * self.probability(i)\n",
    "        perp = prob ** (-1 / self.n)\n",
    "        return perp\n"
   ]
  },
  {
   "cell_type": "code",
   "execution_count": 105,
   "metadata": {},
   "outputs": [],
   "source": [
    "text = \"In the vast expanse of the universe, countless galaxies twinkle like distant stars, each harboring its own unique collection of celestial bodies, from massive black holes to shimmering nebulae, all governed by the laws of physics and the mysterious forces that shape the cosmos\""
   ]
  },
  {
   "cell_type": "code",
   "execution_count": 106,
   "metadata": {},
   "outputs": [],
   "source": [
    "model = Ngram(text,3)"
   ]
  },
  {
   "cell_type": "code",
   "execution_count": 107,
   "metadata": {},
   "outputs": [
    {
     "data": {
      "text/plain": [
       "['in',\n",
       " 'the',\n",
       " 'vast',\n",
       " 'expanse',\n",
       " 'of',\n",
       " 'the',\n",
       " 'universe',\n",
       " 'countless',\n",
       " 'galaxies',\n",
       " 'twinkle',\n",
       " 'like',\n",
       " 'distant',\n",
       " 'stars',\n",
       " 'each',\n",
       " 'harboring',\n",
       " 'its',\n",
       " 'own',\n",
       " 'unique',\n",
       " 'collection',\n",
       " 'of',\n",
       " 'celestial',\n",
       " 'bodies',\n",
       " 'from',\n",
       " 'massive',\n",
       " 'black',\n",
       " 'holes',\n",
       " 'to',\n",
       " 'shimmering',\n",
       " 'nebulae',\n",
       " 'all',\n",
       " 'governed',\n",
       " 'by',\n",
       " 'the',\n",
       " 'laws',\n",
       " 'of',\n",
       " 'physics',\n",
       " 'and',\n",
       " 'the',\n",
       " 'mysterious',\n",
       " 'forces',\n",
       " 'that',\n",
       " 'shape',\n",
       " 'the',\n",
       " 'cosmos']"
      ]
     },
     "execution_count": 107,
     "metadata": {},
     "output_type": "execute_result"
    }
   ],
   "source": [
    "model.process()"
   ]
  },
  {
   "cell_type": "code",
   "execution_count": 108,
   "metadata": {},
   "outputs": [
    {
     "name": "stdout",
     "output_type": "stream",
     "text": [
      "[['in', 'the', 'vast'], ['the', 'vast', 'expanse'], ['vast', 'expanse', 'of'], ['expanse', 'of', 'the'], ['of', 'the', 'universe'], ['the', 'universe', 'countless'], ['universe', 'countless', 'galaxies'], ['countless', 'galaxies', 'twinkle'], ['galaxies', 'twinkle', 'like'], ['twinkle', 'like', 'distant'], ['like', 'distant', 'stars'], ['distant', 'stars', 'each'], ['stars', 'each', 'harboring'], ['each', 'harboring', 'its'], ['harboring', 'its', 'own'], ['its', 'own', 'unique'], ['own', 'unique', 'collection'], ['unique', 'collection', 'of'], ['collection', 'of', 'celestial'], ['of', 'celestial', 'bodies'], ['celestial', 'bodies', 'from'], ['bodies', 'from', 'massive'], ['from', 'massive', 'black'], ['massive', 'black', 'holes'], ['black', 'holes', 'to'], ['holes', 'to', 'shimmering'], ['to', 'shimmering', 'nebulae'], ['shimmering', 'nebulae', 'all'], ['nebulae', 'all', 'governed'], ['all', 'governed', 'by'], ['governed', 'by', 'the'], ['by', 'the', 'laws'], ['the', 'laws', 'of'], ['laws', 'of', 'physics'], ['of', 'physics', 'and'], ['physics', 'and', 'the'], ['and', 'the', 'mysterious'], ['the', 'mysterious', 'forces'], ['mysterious', 'forces', 'that'], ['forces', 'that', 'shape'], ['that', 'shape', 'the'], ['shape', 'the', 'cosmos']]\n"
     ]
    }
   ],
   "source": [
    "ngram = model.ngram()\n",
    "print(ngram)"
   ]
  },
  {
   "cell_type": "code",
   "execution_count": 109,
   "metadata": {},
   "outputs": [
    {
     "name": "stdout",
     "output_type": "stream",
     "text": [
      "count of this ['in', 'the', 'vast'] is 1\n",
      "count of this ['the', 'vast', 'expanse'] is 1\n",
      "count of this ['vast', 'expanse', 'of'] is 1\n",
      "count of this ['expanse', 'of', 'the'] is 1\n",
      "count of this ['of', 'the', 'universe'] is 1\n",
      "count of this ['the', 'universe', 'countless'] is 1\n",
      "count of this ['universe', 'countless', 'galaxies'] is 1\n",
      "count of this ['countless', 'galaxies', 'twinkle'] is 1\n",
      "count of this ['galaxies', 'twinkle', 'like'] is 1\n",
      "count of this ['twinkle', 'like', 'distant'] is 1\n",
      "count of this ['like', 'distant', 'stars'] is 1\n",
      "count of this ['distant', 'stars', 'each'] is 1\n",
      "count of this ['stars', 'each', 'harboring'] is 1\n",
      "count of this ['each', 'harboring', 'its'] is 1\n",
      "count of this ['harboring', 'its', 'own'] is 1\n",
      "count of this ['its', 'own', 'unique'] is 1\n",
      "count of this ['own', 'unique', 'collection'] is 1\n",
      "count of this ['unique', 'collection', 'of'] is 1\n",
      "count of this ['collection', 'of', 'celestial'] is 1\n",
      "count of this ['of', 'celestial', 'bodies'] is 1\n",
      "count of this ['celestial', 'bodies', 'from'] is 1\n",
      "count of this ['bodies', 'from', 'massive'] is 1\n",
      "count of this ['from', 'massive', 'black'] is 1\n",
      "count of this ['massive', 'black', 'holes'] is 1\n",
      "count of this ['black', 'holes', 'to'] is 1\n",
      "count of this ['holes', 'to', 'shimmering'] is 1\n",
      "count of this ['to', 'shimmering', 'nebulae'] is 1\n",
      "count of this ['shimmering', 'nebulae', 'all'] is 1\n",
      "count of this ['nebulae', 'all', 'governed'] is 1\n",
      "count of this ['all', 'governed', 'by'] is 1\n",
      "count of this ['governed', 'by', 'the'] is 1\n",
      "count of this ['by', 'the', 'laws'] is 1\n",
      "count of this ['the', 'laws', 'of'] is 1\n",
      "count of this ['laws', 'of', 'physics'] is 1\n",
      "count of this ['of', 'physics', 'and'] is 1\n",
      "count of this ['physics', 'and', 'the'] is 1\n",
      "count of this ['and', 'the', 'mysterious'] is 1\n",
      "count of this ['the', 'mysterious', 'forces'] is 1\n",
      "count of this ['mysterious', 'forces', 'that'] is 1\n",
      "count of this ['forces', 'that', 'shape'] is 1\n",
      "count of this ['that', 'shape', 'the'] is 1\n",
      "count of this ['shape', 'the', 'cosmos'] is 1\n"
     ]
    }
   ],
   "source": [
    "for i in ngram:\n",
    "    print(f'count of this {i} is {model.counts(i)}')"
   ]
  },
  {
   "cell_type": "code",
   "execution_count": 110,
   "metadata": {},
   "outputs": [
    {
     "data": {
      "text/plain": [
       "0.023809523809523808"
      ]
     },
     "execution_count": 110,
     "metadata": {},
     "output_type": "execute_result"
    }
   ],
   "source": [
    "model.probability(['mysterious', 'forces', 'that'])"
   ]
  },
  {
   "cell_type": "code",
   "execution_count": 111,
   "metadata": {},
   "outputs": [
    {
     "data": {
      "text/plain": [
       "5.314838417443228e+22"
      ]
     },
     "execution_count": 111,
     "metadata": {},
     "output_type": "execute_result"
    }
   ],
   "source": [
    "model.perplexity()"
   ]
  },
  {
   "cell_type": "code",
   "execution_count": null,
   "metadata": {},
   "outputs": [],
   "source": []
  },
  {
   "cell_type": "code",
   "execution_count": null,
   "metadata": {},
   "outputs": [],
   "source": []
  }
 ],
 "metadata": {
  "kernelspec": {
   "display_name": "Python 3",
   "language": "python",
   "name": "python3"
  },
  "language_info": {
   "codemirror_mode": {
    "name": "ipython",
    "version": 3
   },
   "file_extension": ".py",
   "mimetype": "text/x-python",
   "name": "python",
   "nbconvert_exporter": "python",
   "pygments_lexer": "ipython3",
   "version": "3.11.1"
  }
 },
 "nbformat": 4,
 "nbformat_minor": 2
}
